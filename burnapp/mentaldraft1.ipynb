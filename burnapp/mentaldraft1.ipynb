{
 "cells": [
  {
   "cell_type": "code",
   "metadata": {
    "cell_id": "0509b90111a8401dbd64e0e64ff86e57",
    "tags": [],
    "deepnote_to_be_reexecuted": false,
    "source_hash": "56ce0ec0",
    "execution_start": 1649525912384,
    "execution_millis": 16400,
    "deepnote_cell_type": "code",
    "deepnote_cell_height": 388
   },
   "source": "!pip install xgboost\n!pip install LGBMRegressor\n!pip install CatBoostRegressor",
   "execution_count": null,
   "outputs": [
    {
     "name": "stdout",
     "text": "Requirement already satisfied: xgboost in /usr/local/lib/python3.7/site-packages (1.5.2)\nRequirement already satisfied: numpy in /shared-libs/python3.7/py/lib/python3.7/site-packages (from xgboost) (1.21.5)\nRequirement already satisfied: scipy in /shared-libs/python3.7/py/lib/python3.7/site-packages (from xgboost) (1.7.3)\n\u001b[33mWARNING: You are using pip version 20.1.1; however, version 22.0.4 is available.\nYou should consider upgrading via the '/root/venv/bin/python -m pip install --upgrade pip' command.\u001b[0m\n\u001b[31mERROR: Could not find a version that satisfies the requirement LGBMRegressor (from versions: none)\u001b[0m\n\u001b[31mERROR: No matching distribution found for LGBMRegressor\u001b[0m\n\u001b[33mWARNING: You are using pip version 20.1.1; however, version 22.0.4 is available.\nYou should consider upgrading via the '/root/venv/bin/python -m pip install --upgrade pip' command.\u001b[0m\n\u001b[31mERROR: Could not find a version that satisfies the requirement CatBoostRegressor (from versions: none)\u001b[0m\n\u001b[31mERROR: No matching distribution found for CatBoostRegressor\u001b[0m\n\u001b[33mWARNING: You are using pip version 20.1.1; however, version 22.0.4 is available.\nYou should consider upgrading via the '/root/venv/bin/python -m pip install --upgrade pip' command.\u001b[0m\n",
     "output_type": "stream"
    }
   ]
  },
  {
   "cell_type": "code",
   "metadata": {
    "id": "Ep_uB6B6TlZM",
    "cell_id": "9a50dff4-a2b4-441c-94ff-cddaf0888f85",
    "deepnote_to_be_reexecuted": false,
    "source_hash": "6049d6a6",
    "execution_start": 1649526436396,
    "execution_millis": 1,
    "deepnote_cell_type": "code",
    "deepnote_cell_height": 387
   },
   "source": "import numpy as np\nimport pandas as pd\n\nfrom sklearn.model_selection import train_test_split\nfrom sklearn.preprocessing import StandardScaler\n\nfrom sklearn.linear_model import LinearRegression, Ridge, Lasso\nfrom sklearn.neighbors import KNeighborsRegressor\nfrom sklearn.neural_network import MLPRegressor\nfrom sklearn.svm import LinearSVR, SVR\nfrom sklearn.tree import DecisionTreeRegressor\nfrom sklearn.ensemble import RandomForestRegressor, GradientBoostingRegressor\nfrom xgboost import XGBRegressor\nfrom lightgbm import LGBMRegressor\nfrom catboost import CatBoostRegressor\n\nimport warnings\nwarnings.filterwarnings(action='ignore')",
   "execution_count": null,
   "outputs": []
  },
  {
   "cell_type": "code",
   "metadata": {
    "colab": {
     "base_uri": "https://localhost:8080/"
    },
    "id": "txaPhJscUSAg",
    "outputId": "efca8c2e-0659-4357-8b2f-1a359a8024af",
    "cell_id": "00001-3cc368de-9640-4e3d-83c5-5f85982e6b0e",
    "deepnote_to_be_reexecuted": false,
    "source_hash": "ca52c5a0",
    "execution_start": 1649526439914,
    "execution_millis": 5766,
    "deepnote_cell_type": "code",
    "deepnote_cell_height": 532.796875
   },
   "source": "!pip install catboost\n\n",
   "execution_count": null,
   "outputs": [
    {
     "name": "stdout",
     "text": "Requirement already satisfied: catboost in /usr/local/lib/python3.7/site-packages (1.0.5)\nRequirement already satisfied: numpy>=1.16.0 in /shared-libs/python3.7/py/lib/python3.7/site-packages (from catboost) (1.21.5)\nRequirement already satisfied: scipy in /shared-libs/python3.7/py/lib/python3.7/site-packages (from catboost) (1.7.3)\nRequirement already satisfied: graphviz in /usr/local/lib/python3.7/site-packages (from catboost) (0.19.2)\nRequirement already satisfied: matplotlib in /shared-libs/python3.7/py/lib/python3.7/site-packages (from catboost) (3.5.1)\nRequirement already satisfied: plotly in /shared-libs/python3.7/py/lib/python3.7/site-packages (from catboost) (5.6.0)\nRequirement already satisfied: six in /shared-libs/python3.7/py-core/lib/python3.7/site-packages (from catboost) (1.16.0)\nRequirement already satisfied: pandas>=0.24.0 in /shared-libs/python3.7/py/lib/python3.7/site-packages (from catboost) (1.2.5)\nRequirement already satisfied: python-dateutil>=2.7 in /shared-libs/python3.7/py-core/lib/python3.7/site-packages (from matplotlib->catboost) (2.8.2)\nRequirement already satisfied: fonttools>=4.22.0 in /shared-libs/python3.7/py/lib/python3.7/site-packages (from matplotlib->catboost) (4.31.2)\nRequirement already satisfied: pyparsing>=2.2.1 in /shared-libs/python3.7/py-core/lib/python3.7/site-packages (from matplotlib->catboost) (3.0.7)\nRequirement already satisfied: packaging>=20.0 in /shared-libs/python3.7/py-core/lib/python3.7/site-packages (from matplotlib->catboost) (21.3)\nRequirement already satisfied: kiwisolver>=1.0.1 in /shared-libs/python3.7/py/lib/python3.7/site-packages (from matplotlib->catboost) (1.4.0)\nRequirement already satisfied: pillow>=6.2.0 in /shared-libs/python3.7/py/lib/python3.7/site-packages (from matplotlib->catboost) (9.0.1)\nRequirement already satisfied: cycler>=0.10 in /shared-libs/python3.7/py/lib/python3.7/site-packages (from matplotlib->catboost) (0.11.0)\nRequirement already satisfied: tenacity>=6.2.0 in /shared-libs/python3.7/py/lib/python3.7/site-packages (from plotly->catboost) (8.0.1)\nRequirement already satisfied: pytz>=2017.3 in /shared-libs/python3.7/py/lib/python3.7/site-packages (from pandas>=0.24.0->catboost) (2022.1)\nRequirement already satisfied: typing-extensions; python_version < \"3.8\" in /shared-libs/python3.7/py-core/lib/python3.7/site-packages (from kiwisolver>=1.0.1->matplotlib->catboost) (4.1.1)\n\u001b[33mWARNING: You are using pip version 20.1.1; however, version 22.0.4 is available.\nYou should consider upgrading via the '/root/venv/bin/python -m pip install --upgrade pip' command.\u001b[0m\n",
     "output_type": "stream"
    }
   ]
  },
  {
   "cell_type": "code",
   "metadata": {
    "id": "uTlpnqAAUdrH",
    "cell_id": "00002-62fe40e0-d59f-4c07-aeec-1d076bd7fe1f",
    "deepnote_to_be_reexecuted": false,
    "source_hash": "4ca3883b",
    "execution_start": 1649526445686,
    "execution_millis": 52,
    "deepnote_cell_type": "code",
    "deepnote_cell_height": 99
   },
   "source": "data = pd.read_csv('/work/train_hack4bengal.csv')\n",
   "execution_count": null,
   "outputs": []
  },
  {
   "cell_type": "code",
   "metadata": {
    "cell_id": "555fba4e1d574f479d9b228d5bd7405b",
    "tags": [],
    "deepnote_cell_type": "code",
    "deepnote_cell_height": 120
   },
   "source": "# 'Gender', 'Company Type', 'WFH Setup Available', 'Designation',\n#        'Resource Allocation', 'Mental Fatigue Score'\n\n# ['Male','Service','Yes','3','2','5.5']",
   "execution_count": null,
   "outputs": []
  },
  {
   "cell_type": "code",
   "metadata": {
    "colab": {
     "base_uri": "https://localhost:8080/",
     "height": 485
    },
    "id": "X_iWgov_UyIt",
    "outputId": "728e9620-b20e-40c2-8e1f-ace7f6c39383",
    "cell_id": "00003-44ebbd7c-ad02-4283-a832-2f14ad892b10",
    "deepnote_to_be_reexecuted": false,
    "source_hash": "e6928a8f",
    "execution_start": 1649526449601,
    "execution_millis": 688,
    "deepnote_cell_type": "code",
    "deepnote_cell_height": 616.796875
   },
   "source": "data",
   "execution_count": null,
   "outputs": [
    {
     "output_type": "execute_result",
     "execution_count": 22,
     "data": {
      "application/vnd.deepnote.dataframe.v3+json": {
       "column_count": 9,
       "row_count": 22750,
       "columns": [
        {
         "name": "Employee ID",
         "dtype": "object",
         "stats": {
          "unique_count": 22750,
          "nan_count": 0,
          "categories": [
           {
            "name": "fffe32003000360033003200",
            "count": 1
           },
           {
            "name": "fffe3700360033003500",
            "count": 1
           },
           {
            "name": "22748 others",
            "count": 22748
           }
          ]
         }
        },
        {
         "name": "Date of Joining",
         "dtype": "object",
         "stats": {
          "unique_count": 366,
          "nan_count": 0,
          "categories": [
           {
            "name": "2008-01-06",
            "count": 86
           },
           {
            "name": "2008-05-21",
            "count": 85
           },
           {
            "name": "364 others",
            "count": 22579
           }
          ]
         }
        },
        {
         "name": "Gender",
         "dtype": "object",
         "stats": {
          "unique_count": 2,
          "nan_count": 0,
          "categories": [
           {
            "name": "Female",
            "count": 11908
           },
           {
            "name": "Male",
            "count": 10842
           }
          ]
         }
        },
        {
         "name": "Company Type",
         "dtype": "object",
         "stats": {
          "unique_count": 2,
          "nan_count": 0,
          "categories": [
           {
            "name": "Service",
            "count": 14833
           },
           {
            "name": "Product",
            "count": 7917
           }
          ]
         }
        },
        {
         "name": "WFH Setup Available",
         "dtype": "object"
        },
        {
         "name": "Designation",
         "dtype": "float64"
        },
        {
         "name": "Resource Allocation",
         "dtype": "float64"
        },
        {
         "name": "Mental Fatigue Score",
         "dtype": "float64"
        },
        {
         "name": "Burn Rate",
         "dtype": "float64"
        },
        {
         "name": "_deepnote_index_column",
         "dtype": "int64"
        }
       ],
       "rows": [
        {
         "Employee ID": "fffe32003000360033003200",
         "Date of Joining": "2008-09-30",
         "Gender": "Female",
         "Company Type": "Service",
         "WFH Setup Available": "No",
         "Designation": 2,
         "Resource Allocation": 3,
         "Mental Fatigue Score": 3.8,
         "Burn Rate": 0.16,
         "_deepnote_index_column": 0
        },
        {
         "Employee ID": "fffe3700360033003500",
         "Date of Joining": "2008-11-30",
         "Gender": "Male",
         "Company Type": "Service",
         "WFH Setup Available": "Yes",
         "Designation": 1,
         "Resource Allocation": 2,
         "Mental Fatigue Score": 5,
         "Burn Rate": 0.36,
         "_deepnote_index_column": 1
        },
        {
         "Employee ID": "fffe31003300320037003900",
         "Date of Joining": "2008-03-10",
         "Gender": "Female",
         "Company Type": "Product",
         "WFH Setup Available": "Yes",
         "Designation": 2,
         "Resource Allocation": "nan",
         "Mental Fatigue Score": 5.8,
         "Burn Rate": 0.49,
         "_deepnote_index_column": 2
        },
        {
         "Employee ID": "fffe32003400380032003900",
         "Date of Joining": "2008-11-03",
         "Gender": "Male",
         "Company Type": "Service",
         "WFH Setup Available": "Yes",
         "Designation": 1,
         "Resource Allocation": 1,
         "Mental Fatigue Score": 2.6,
         "Burn Rate": 0.2,
         "_deepnote_index_column": 3
        },
        {
         "Employee ID": "fffe31003900340031003600",
         "Date of Joining": "2008-07-24",
         "Gender": "Female",
         "Company Type": "Service",
         "WFH Setup Available": "No",
         "Designation": 3,
         "Resource Allocation": 7,
         "Mental Fatigue Score": 6.9,
         "Burn Rate": 0.52,
         "_deepnote_index_column": 4
        },
        {
         "Employee ID": "fffe3300350037003500",
         "Date of Joining": "2008-11-26",
         "Gender": "Male",
         "Company Type": "Product",
         "WFH Setup Available": "Yes",
         "Designation": 2,
         "Resource Allocation": 4,
         "Mental Fatigue Score": 3.6,
         "Burn Rate": 0.29,
         "_deepnote_index_column": 5
        },
        {
         "Employee ID": "fffe33003300340039003100",
         "Date of Joining": "2008-01-02",
         "Gender": "Female",
         "Company Type": "Service",
         "WFH Setup Available": "No",
         "Designation": 3,
         "Resource Allocation": 6,
         "Mental Fatigue Score": 7.9,
         "Burn Rate": 0.62,
         "_deepnote_index_column": 6
        },
        {
         "Employee ID": "fffe32003600320037003400",
         "Date of Joining": "2008-10-31",
         "Gender": "Female",
         "Company Type": "Service",
         "WFH Setup Available": "Yes",
         "Designation": 2,
         "Resource Allocation": 4,
         "Mental Fatigue Score": 4.4,
         "Burn Rate": 0.33,
         "_deepnote_index_column": 7
        },
        {
         "Employee ID": "fffe32003200300034003700",
         "Date of Joining": "2008-12-27",
         "Gender": "Female",
         "Company Type": "Service",
         "WFH Setup Available": "No",
         "Designation": 3,
         "Resource Allocation": 6,
         "Mental Fatigue Score": "nan",
         "Burn Rate": 0.56,
         "_deepnote_index_column": 8
        },
        {
         "Employee ID": "fffe31003600320030003200",
         "Date of Joining": "2008-03-09",
         "Gender": "Female",
         "Company Type": "Product",
         "WFH Setup Available": "No",
         "Designation": 3,
         "Resource Allocation": 6,
         "Mental Fatigue Score": "nan",
         "Burn Rate": 0.67,
         "_deepnote_index_column": 9
        }
       ]
      },
      "text/plain": "                    Employee ID Date of Joining  Gender Company Type  \\\n0      fffe32003000360033003200      2008-09-30  Female      Service   \n1          fffe3700360033003500      2008-11-30    Male      Service   \n2      fffe31003300320037003900      2008-03-10  Female      Product   \n3      fffe32003400380032003900      2008-11-03    Male      Service   \n4      fffe31003900340031003600      2008-07-24  Female      Service   \n...                         ...             ...     ...          ...   \n22745  fffe31003500370039003100      2008-12-30  Female      Service   \n22746  fffe33003000350031003800      2008-01-19  Female      Product   \n22747          fffe390032003000      2008-11-05    Male      Service   \n22748  fffe33003300320036003900      2008-01-10  Female      Service   \n22749      fffe3400350031003800      2008-01-06    Male      Product   \n\n      WFH Setup Available  Designation  Resource Allocation  \\\n0                      No          2.0                  3.0   \n1                     Yes          1.0                  2.0   \n2                     Yes          2.0                  NaN   \n3                     Yes          1.0                  1.0   \n4                      No          3.0                  7.0   \n...                   ...          ...                  ...   \n22745                  No          1.0                  3.0   \n22746                 Yes          3.0                  6.0   \n22747                 Yes          3.0                  7.0   \n22748                  No          2.0                  5.0   \n22749                  No          3.0                  6.0   \n\n       Mental Fatigue Score  Burn Rate  \n0                       3.8       0.16  \n1                       5.0       0.36  \n2                       5.8       0.49  \n3                       2.6       0.20  \n4                       6.9       0.52  \n...                     ...        ...  \n22745                   NaN       0.41  \n22746                   6.7       0.59  \n22747                   NaN       0.72  \n22748                   5.9       0.52  \n22749                   7.8       0.61  \n\n[22750 rows x 9 columns]",
      "text/html": "<div>\n<style scoped>\n    .dataframe tbody tr th:only-of-type {\n        vertical-align: middle;\n    }\n\n    .dataframe tbody tr th {\n        vertical-align: top;\n    }\n\n    .dataframe thead th {\n        text-align: right;\n    }\n</style>\n<table border=\"1\" class=\"dataframe\">\n  <thead>\n    <tr style=\"text-align: right;\">\n      <th></th>\n      <th>Employee ID</th>\n      <th>Date of Joining</th>\n      <th>Gender</th>\n      <th>Company Type</th>\n      <th>WFH Setup Available</th>\n      <th>Designation</th>\n      <th>Resource Allocation</th>\n      <th>Mental Fatigue Score</th>\n      <th>Burn Rate</th>\n    </tr>\n  </thead>\n  <tbody>\n    <tr>\n      <th>0</th>\n      <td>fffe32003000360033003200</td>\n      <td>2008-09-30</td>\n      <td>Female</td>\n      <td>Service</td>\n      <td>No</td>\n      <td>2.0</td>\n      <td>3.0</td>\n      <td>3.8</td>\n      <td>0.16</td>\n    </tr>\n    <tr>\n      <th>1</th>\n      <td>fffe3700360033003500</td>\n      <td>2008-11-30</td>\n      <td>Male</td>\n      <td>Service</td>\n      <td>Yes</td>\n      <td>1.0</td>\n      <td>2.0</td>\n      <td>5.0</td>\n      <td>0.36</td>\n    </tr>\n    <tr>\n      <th>2</th>\n      <td>fffe31003300320037003900</td>\n      <td>2008-03-10</td>\n      <td>Female</td>\n      <td>Product</td>\n      <td>Yes</td>\n      <td>2.0</td>\n      <td>NaN</td>\n      <td>5.8</td>\n      <td>0.49</td>\n    </tr>\n    <tr>\n      <th>3</th>\n      <td>fffe32003400380032003900</td>\n      <td>2008-11-03</td>\n      <td>Male</td>\n      <td>Service</td>\n      <td>Yes</td>\n      <td>1.0</td>\n      <td>1.0</td>\n      <td>2.6</td>\n      <td>0.20</td>\n    </tr>\n    <tr>\n      <th>4</th>\n      <td>fffe31003900340031003600</td>\n      <td>2008-07-24</td>\n      <td>Female</td>\n      <td>Service</td>\n      <td>No</td>\n      <td>3.0</td>\n      <td>7.0</td>\n      <td>6.9</td>\n      <td>0.52</td>\n    </tr>\n    <tr>\n      <th>...</th>\n      <td>...</td>\n      <td>...</td>\n      <td>...</td>\n      <td>...</td>\n      <td>...</td>\n      <td>...</td>\n      <td>...</td>\n      <td>...</td>\n      <td>...</td>\n    </tr>\n    <tr>\n      <th>22745</th>\n      <td>fffe31003500370039003100</td>\n      <td>2008-12-30</td>\n      <td>Female</td>\n      <td>Service</td>\n      <td>No</td>\n      <td>1.0</td>\n      <td>3.0</td>\n      <td>NaN</td>\n      <td>0.41</td>\n    </tr>\n    <tr>\n      <th>22746</th>\n      <td>fffe33003000350031003800</td>\n      <td>2008-01-19</td>\n      <td>Female</td>\n      <td>Product</td>\n      <td>Yes</td>\n      <td>3.0</td>\n      <td>6.0</td>\n      <td>6.7</td>\n      <td>0.59</td>\n    </tr>\n    <tr>\n      <th>22747</th>\n      <td>fffe390032003000</td>\n      <td>2008-11-05</td>\n      <td>Male</td>\n      <td>Service</td>\n      <td>Yes</td>\n      <td>3.0</td>\n      <td>7.0</td>\n      <td>NaN</td>\n      <td>0.72</td>\n    </tr>\n    <tr>\n      <th>22748</th>\n      <td>fffe33003300320036003900</td>\n      <td>2008-01-10</td>\n      <td>Female</td>\n      <td>Service</td>\n      <td>No</td>\n      <td>2.0</td>\n      <td>5.0</td>\n      <td>5.9</td>\n      <td>0.52</td>\n    </tr>\n    <tr>\n      <th>22749</th>\n      <td>fffe3400350031003800</td>\n      <td>2008-01-06</td>\n      <td>Male</td>\n      <td>Product</td>\n      <td>No</td>\n      <td>3.0</td>\n      <td>6.0</td>\n      <td>7.8</td>\n      <td>0.61</td>\n    </tr>\n  </tbody>\n</table>\n<p>22750 rows × 9 columns</p>\n</div>"
     },
     "metadata": {}
    }
   ]
  },
  {
   "cell_type": "code",
   "metadata": {
    "colab": {
     "base_uri": "https://localhost:8080/"
    },
    "id": "qI0wnvnUUzzO",
    "outputId": "9947692e-571a-4406-d898-da0bb1ee4356",
    "cell_id": "00004-90f87e88-e809-413e-80c8-16cd241a1a50",
    "deepnote_to_be_reexecuted": false,
    "source_hash": "957547ae",
    "execution_start": 1649526455360,
    "execution_millis": 72,
    "deepnote_cell_type": "code",
    "deepnote_cell_height": 412
   },
   "source": "data.info()",
   "execution_count": null,
   "outputs": [
    {
     "name": "stdout",
     "text": "<class 'pandas.core.frame.DataFrame'>\nRangeIndex: 22750 entries, 0 to 22749\nData columns (total 9 columns):\n #   Column                Non-Null Count  Dtype  \n---  ------                --------------  -----  \n 0   Employee ID           22750 non-null  object \n 1   Date of Joining       22750 non-null  object \n 2   Gender                22750 non-null  object \n 3   Company Type          22750 non-null  object \n 4   WFH Setup Available   22750 non-null  object \n 5   Designation           22750 non-null  float64\n 6   Resource Allocation   21369 non-null  float64\n 7   Mental Fatigue Score  20633 non-null  float64\n 8   Burn Rate             21626 non-null  float64\ndtypes: float64(4), object(5)\nmemory usage: 1.6+ MB\n",
     "output_type": "stream"
    }
   ]
  },
  {
   "cell_type": "code",
   "metadata": {
    "id": "bxs05Jj_U3EL",
    "cell_id": "00005-6fb78642-26ed-4de2-bcdf-338f0003c749",
    "deepnote_to_be_reexecuted": false,
    "source_hash": "9c329e99",
    "execution_start": 1649526459540,
    "execution_millis": 1,
    "deepnote_cell_type": "code",
    "deepnote_cell_height": 711
   },
   "source": "def preprocess_inputs(df):\n    df = df.copy()\n    \n    # Drop Employee ID column\n    df = df.drop('Employee ID', axis=1)\n\n    # Drop Joining Date\n    df = df.drop('Date of Joining', axis=1)\n    \n    # Drop rows with missing target values\n    missing_target_rows = df.loc[df['Burn Rate'].isna(), :].index\n    df = df.drop(missing_target_rows, axis=0).reset_index(drop=True)\n    \n    # Fill remaining missing values with column means\n    for column in ['Resource Allocation', 'Mental Fatigue Score']:\n        df[column] = df[column].fillna(df[column].mean())\n    \n    \n    # Binary encoding\n    df['Gender'] = df['Gender'].replace({'Female': 0, 'Male': 1})\n    df['Company Type'] = df['Company Type'].replace({'Product': 0, 'Service': 1})\n    df['WFH Setup Available'] = df['WFH Setup Available'].replace({'No': 0, 'Yes': 1})\n    \n    # Split df into X and y\n    y = df['Burn Rate']\n    X = df.drop('Burn Rate', axis=1)\n     # Train-test split\n    X_train, X_test, y_train, y_test = train_test_split(X, y, train_size=0.7, shuffle=True, random_state=1)\n    \n    # Scale X\n    scaler = StandardScaler()\n    scaler.fit(X_train)\n    X_train = pd.DataFrame(scaler.transform(X_train), index=X_train.index, columns=X_train.columns)\n    X_test = pd.DataFrame(scaler.transform(X_test), index=X_test.index, columns=X_test.columns)\n    \n    return X_train, X_test, y_train, y_test",
   "execution_count": null,
   "outputs": []
  },
  {
   "cell_type": "code",
   "metadata": {
    "id": "ZUpkol5tVCQZ",
    "cell_id": "00006-82eeecde-ced3-4907-9979-4e25de4f006f",
    "deepnote_to_be_reexecuted": false,
    "source_hash": "6764bf3f",
    "execution_start": 1649526465358,
    "execution_millis": 95,
    "deepnote_cell_type": "code",
    "deepnote_cell_height": 81
   },
   "source": "X_train, X_test, y_train, y_test = preprocess_inputs(data)",
   "execution_count": null,
   "outputs": []
  },
  {
   "cell_type": "code",
   "metadata": {
    "cell_id": "5ba7933f354742389a6389bfa7beff5b",
    "tags": [],
    "deepnote_to_be_reexecuted": false,
    "source_hash": "2175c87",
    "execution_start": 1649527535923,
    "execution_millis": 698,
    "deepnote_cell_type": "code",
    "deepnote_cell_height": 156.578125,
    "deepnote_output_heights": [
     59.59375
    ]
   },
   "source": "X_train.columns",
   "execution_count": null,
   "outputs": [
    {
     "output_type": "execute_result",
     "execution_count": 55,
     "data": {
      "text/plain": "Index(['Gender', 'Company Type', 'WFH Setup Available', 'Designation',\n       'Resource Allocation', 'Mental Fatigue Score'],\n      dtype='object')"
     },
     "metadata": {}
    }
   ]
  },
  {
   "cell_type": "code",
   "metadata": {
    "colab": {
     "base_uri": "https://localhost:8080/"
    },
    "id": "JtDA_L6aVFJC",
    "outputId": "64cd21f0-900b-4de1-b742-443dd79e0bfe",
    "cell_id": "00007-cbc08d1e-b97d-47bc-a8f0-d3fa5d50919c",
    "deepnote_to_be_reexecuted": false,
    "source_hash": "50b47f8a",
    "execution_start": 1649527539330,
    "execution_millis": 12255,
    "deepnote_cell_type": "code",
    "deepnote_cell_height": 676
   },
   "source": "models = {\n    \"                     Linear Regression\": LinearRegression(),\n    \" Linear Regression (L2 Regularization)\": Ridge(),\n    \" Linear Regression (L1 Regularization)\": Lasso(),\n    \"                   K-Nearest Neighbors\": KNeighborsRegressor(),\n    \"                        Neural Network\": MLPRegressor(),\n    \"Support Vector Machine (Linear Kernel)\": LinearSVR(),\n    \"   Support Vector Machine (RBF Kernel)\": SVR(),\n    \"                         Decision Tree\": DecisionTreeRegressor(),\n    \"                         Random Forest\": RandomForestRegressor(),\n    \"                     Gradient Boosting\": GradientBoostingRegressor(),\n    \"                               XGBoost\": XGBRegressor(),\n    \"                              LightGBM\": LGBMRegressor(),\n    \"                              CatBoost\": CatBoostRegressor(verbose=0)\n}\n\nfor name, model in models.items():\n    model.fit(X_train.values, y_train.values)\n    print(name + \" trained.\")",
   "execution_count": null,
   "outputs": [
    {
     "name": "stdout",
     "text": "                     Linear Regression trained.\n Linear Regression (L2 Regularization) trained.\n Linear Regression (L1 Regularization) trained.\n                   K-Nearest Neighbors trained.\n                        Neural Network trained.\nSupport Vector Machine (Linear Kernel) trained.\n   Support Vector Machine (RBF Kernel) trained.\n                         Decision Tree trained.\n                         Random Forest trained.\n                     Gradient Boosting trained.\n                               XGBoost trained.\n                              LightGBM trained.\n                              CatBoost trained.\n",
     "output_type": "stream"
    }
   ]
  },
  {
   "cell_type": "code",
   "metadata": {
    "colab": {
     "base_uri": "https://localhost:8080/"
    },
    "id": "eKN1DhrqVL6I",
    "outputId": "852b89fd-ae84-441d-c7a2-4f6bca1c8fe1",
    "cell_id": "00008-0164f0d7-5f49-4a60-a4c8-407e21211077",
    "deepnote_to_be_reexecuted": false,
    "source_hash": "e3a4c211",
    "execution_start": 1649527567688,
    "execution_millis": 1458,
    "deepnote_cell_type": "code",
    "deepnote_cell_height": 370
   },
   "source": "for name, model in models.items():\n    print(name + \" R^2 Score: {:.5f}\".format(model.score(X_test.values, y_test.values)))",
   "execution_count": null,
   "outputs": [
    {
     "name": "stdout",
     "text": "                     Linear Regression R^2 Score: 0.87075\n Linear Regression (L2 Regularization) R^2 Score: 0.87075\n Linear Regression (L1 Regularization) R^2 Score: -0.00001\n                   K-Nearest Neighbors R^2 Score: 0.88506\n                        Neural Network R^2 Score: 0.88481\nSupport Vector Machine (Linear Kernel) R^2 Score: 0.86896\n   Support Vector Machine (RBF Kernel) R^2 Score: 0.88891\n                         Decision Tree R^2 Score: 0.87770\n                         Random Forest R^2 Score: 0.89201\n                     Gradient Boosting R^2 Score: 0.90341\n                               XGBoost R^2 Score: 0.90684\n                              LightGBM R^2 Score: 0.90998\n                              CatBoost R^2 Score: 0.91015\n",
     "output_type": "stream"
    }
   ]
  },
  {
   "cell_type": "code",
   "metadata": {
    "cell_id": "da3bd1ae90fa4df0abf2ec657e2c07f4",
    "tags": [],
    "deepnote_to_be_reexecuted": false,
    "source_hash": "549066d0",
    "execution_start": 1649527573773,
    "execution_millis": 2,
    "deepnote_cell_type": "code",
    "deepnote_cell_height": 81
   },
   "source": "import pickle",
   "execution_count": null,
   "outputs": []
  },
  {
   "cell_type": "code",
   "metadata": {
    "cell_id": "06f0c2a42e9c422c81ba56f64c280139",
    "tags": [],
    "deepnote_to_be_reexecuted": false,
    "source_hash": "36c846fd",
    "execution_start": 1649527576493,
    "execution_millis": 336,
    "deepnote_cell_type": "code",
    "deepnote_cell_height": 117
   },
   "source": "for name, model in models.items():\n    filename = '/work/Models/'+name+'.pkl'\n    pickle.dump(model, open(filename, 'wb'))",
   "execution_count": null,
   "outputs": []
  },
  {
   "cell_type": "code",
   "metadata": {
    "cell_id": "d1dcbca1b1824d53a0237dbbb654978c",
    "tags": [],
    "deepnote_cell_type": "code",
    "deepnote_cell_height": 300
   },
   "source": "import pickle\n\n#\n# Create your model here (same as above)\n#\n\n# Save to file in the current working directory\npkl_filename = \"pickle_model.pkl\"\nwith open(pkl_filename, 'wb') as file:\n    pickle.dump(model, file)\n\n# Load from file\nwith open(pkl_filename, 'rb') as file:\n    pickle_model = pickle.load(file)",
   "execution_count": null,
   "outputs": []
  },
  {
   "cell_type": "code",
   "metadata": {
    "cell_id": "310e3bc77ba24f3faf5688bde977f7a7",
    "tags": [],
    "deepnote_to_be_reexecuted": false,
    "source_hash": "cfd364ec",
    "execution_start": 1649527586956,
    "execution_millis": 41,
    "deepnote_cell_type": "code",
    "deepnote_cell_height": 153
   },
   "source": "# with open(pkl_filename, 'rb') as file:\n# pickle_model = pickle.load(\"/work/Models/XGBoost.pkl\")\n\nwith open(\"/work/Models/                               XGBoost.pkl\", 'rb') as file:\n    pickle_model = pickle.load(file)",
   "execution_count": null,
   "outputs": []
  },
  {
   "cell_type": "code",
   "metadata": {
    "cell_id": "71eb4a3a84ed4037aa80616f29f62e50",
    "tags": [],
    "deepnote_to_be_reexecuted": false,
    "source_hash": "d65cf08f",
    "execution_start": 1649528078949,
    "execution_millis": 67,
    "deepnote_cell_type": "code",
    "deepnote_cell_height": 600,
    "deepnote_output_heights": [
     21.1875
    ]
   },
   "source": "X_test",
   "execution_count": null,
   "outputs": [
    {
     "output_type": "execute_result",
     "execution_count": 85,
     "data": {
      "application/vnd.deepnote.dataframe.v3+json": {
       "column_count": 6,
       "row_count": 6488,
       "columns": [
        {
         "name": "Gender",
         "dtype": "float64",
         "stats": {
          "unique_count": 2,
          "nan_count": 0,
          "min": "-0.9540218701406296",
          "max": "1.0481939998425744",
          "histogram": [
           {
            "bin_start": -0.9540218701406296,
            "bin_end": -0.7538002831423092,
            "count": 3424
           },
           {
            "bin_start": -0.7538002831423092,
            "bin_end": -0.5535786961439887,
            "count": 0
           },
           {
            "bin_start": -0.5535786961439887,
            "bin_end": -0.3533571091456682,
            "count": 0
           },
           {
            "bin_start": -0.3533571091456682,
            "bin_end": -0.15313552214734782,
            "count": 0
           },
           {
            "bin_start": -0.15313552214734782,
            "bin_end": 0.04708606485097255,
            "count": 0
           },
           {
            "bin_start": 0.04708606485097255,
            "bin_end": 0.24730765184929315,
            "count": 0
           },
           {
            "bin_start": 0.24730765184929315,
            "bin_end": 0.44752923884761353,
            "count": 0
           },
           {
            "bin_start": 0.44752923884761353,
            "bin_end": 0.6477508258459339,
            "count": 0
           },
           {
            "bin_start": 0.6477508258459339,
            "bin_end": 0.8479724128442543,
            "count": 0
           },
           {
            "bin_start": 0.8479724128442543,
            "bin_end": 1.0481939998425744,
            "count": 3064
           }
          ]
         }
        },
        {
         "name": "Company Type",
         "dtype": "float64",
         "stats": {
          "unique_count": 2,
          "nan_count": 0,
          "min": "-1.3792113421736236",
          "max": "0.7250520420054042",
          "histogram": [
           {
            "bin_start": -1.3792113421736236,
            "bin_end": -1.1687850037557208,
            "count": 2286
           },
           {
            "bin_start": -1.1687850037557208,
            "bin_end": -0.9583586653378181,
            "count": 0
           },
           {
            "bin_start": -0.9583586653378181,
            "bin_end": -0.7479323269199154,
            "count": 0
           },
           {
            "bin_start": -0.7479323269199154,
            "bin_end": -0.5375059885020126,
            "count": 0
           },
           {
            "bin_start": -0.5375059885020126,
            "bin_end": -0.3270796500841098,
            "count": 0
           },
           {
            "bin_start": -0.3270796500841098,
            "bin_end": -0.11665331166620718,
            "count": 0
           },
           {
            "bin_start": -0.11665331166620718,
            "bin_end": 0.09377302675169563,
            "count": 0
           },
           {
            "bin_start": 0.09377302675169563,
            "bin_end": 0.30419936516959845,
            "count": 0
           },
           {
            "bin_start": 0.30419936516959845,
            "bin_end": 0.5146257035875013,
            "count": 0
           },
           {
            "bin_start": 0.5146257035875013,
            "bin_end": 0.7250520420054042,
            "count": 4202
           }
          ]
         }
        },
        {
         "name": "WFH Setup Available",
         "dtype": "float64",
         "stats": {
          "unique_count": 2,
          "nan_count": 0,
          "min": "-1.0872954200889222",
          "max": "0.9197132458428061",
          "histogram": [
           {
            "bin_start": -1.0872954200889222,
            "bin_end": -0.8865945534957493,
            "count": 3004
           },
           {
            "bin_start": -0.8865945534957493,
            "bin_end": -0.6858936869025766,
            "count": 0
           },
           {
            "bin_start": -0.6858936869025766,
            "bin_end": -0.4851928203094038,
            "count": 0
           },
           {
            "bin_start": -0.4851928203094038,
            "bin_end": -0.2844919537162309,
            "count": 0
           },
           {
            "bin_start": -0.2844919537162309,
            "bin_end": -0.08379108712305805,
            "count": 0
           },
           {
            "bin_start": -0.08379108712305805,
            "bin_end": 0.1169097794701146,
            "count": 0
           },
           {
            "bin_start": 0.1169097794701146,
            "bin_end": 0.3176106460632875,
            "count": 0
           },
           {
            "bin_start": 0.3176106460632875,
            "bin_end": 0.5183115126564604,
            "count": 0
           },
           {
            "bin_start": 0.5183115126564604,
            "bin_end": 0.7190123792496332,
            "count": 0
           },
           {
            "bin_start": 0.7190123792496332,
            "bin_end": 0.9197132458428061,
            "count": 3484
           }
          ]
         }
        },
        {
         "name": "Designation",
         "dtype": "float64",
         "stats": {
          "unique_count": 6,
          "nan_count": 0,
          "min": "-1.9137226303393315",
          "max": "2.4841904705346063",
          "histogram": [
           {
            "bin_start": -1.9137226303393315,
            "bin_end": -1.4739313202519377,
            "count": 411
           },
           {
            "bin_start": -1.4739313202519377,
            "bin_end": -1.0341400101645442,
            "count": 0
           },
           {
            "bin_start": -1.0341400101645442,
            "bin_end": -0.5943487000771503,
            "count": 1392
           },
           {
            "bin_start": -0.5943487000771503,
            "bin_end": -0.15455738998975654,
            "count": 0
           },
           {
            "bin_start": -0.15455738998975654,
            "bin_end": 0.28523392009763726,
            "count": 2187
           },
           {
            "bin_start": 0.28523392009763726,
            "bin_end": 0.7250252301850308,
            "count": 0
           },
           {
            "bin_start": 0.7250252301850308,
            "bin_end": 1.1648165402724249,
            "count": 1694
           },
           {
            "bin_start": 1.1648165402724249,
            "bin_end": 1.6046078503598185,
            "count": 0
           },
           {
            "bin_start": 1.6046078503598185,
            "bin_end": 2.0443991604472123,
            "count": 686
           },
           {
            "bin_start": 2.0443991604472123,
            "bin_end": 2.4841904705346063,
            "count": 118
           }
          ]
         }
        },
        {
         "name": "Resource Allocation",
         "dtype": "float64",
         "stats": {
          "unique_count": 11,
          "nan_count": 0,
          "min": "-1.7430172776245503",
          "max": "2.7768156707597544",
          "histogram": [
           {
            "bin_start": -1.7430172776245503,
            "bin_end": -1.2910339827861197,
            "count": 484
           },
           {
            "bin_start": -1.2910339827861197,
            "bin_end": -0.8390506879476893,
            "count": 565
           },
           {
            "bin_start": -0.8390506879476893,
            "bin_end": -0.38706739310925875,
            "count": 918
           },
           {
            "bin_start": -0.38706739310925875,
            "bin_end": 0.06491590172917161,
            "count": 1522
           },
           {
            "bin_start": 0.06491590172917161,
            "bin_end": 0.516899196567602,
            "count": 1110
           },
           {
            "bin_start": 0.516899196567602,
            "bin_end": 0.9688824914060328,
            "count": 856
           },
           {
            "bin_start": 0.9688824914060328,
            "bin_end": 1.4208657862444631,
            "count": 552
           },
           {
            "bin_start": 1.4208657862444631,
            "bin_end": 1.8728490810828935,
            "count": 295
           },
           {
            "bin_start": 1.8728490810828935,
            "bin_end": 2.324832375921324,
            "count": 137
           },
           {
            "bin_start": 2.324832375921324,
            "bin_end": 2.7768156707597544,
            "count": 49
           }
          ]
         }
        },
        {
         "name": "Mental Fatigue Score",
         "dtype": "float64",
         "stats": {
          "unique_count": 102,
          "nan_count": 0,
          "min": "-3.134671487096409",
          "max": "2.3347217670869007",
          "histogram": [
           {
            "bin_start": -3.134671487096409,
            "bin_end": -2.587732161678078,
            "count": 122
           },
           {
            "bin_start": -2.587732161678078,
            "bin_end": -2.0407928362597474,
            "count": 110
           },
           {
            "bin_start": -2.0407928362597474,
            "bin_end": -1.4938535108414164,
            "count": 242
           },
           {
            "bin_start": -1.4938535108414164,
            "bin_end": -0.9469141854230854,
            "count": 498
           },
           {
            "bin_start": -0.9469141854230854,
            "bin_end": -0.39997486000475435,
            "count": 908
           },
           {
            "bin_start": -0.39997486000475435,
            "bin_end": 0.14696446541357622,
            "count": 1757
           },
           {
            "bin_start": 0.14696446541357622,
            "bin_end": 0.6939037908319072,
            "count": 1271
           },
           {
            "bin_start": 0.6939037908319072,
            "bin_end": 1.2408431162502382,
            "count": 897
           },
           {
            "bin_start": 1.2408431162502382,
            "bin_end": 1.7877824416685688,
            "count": 490
           },
           {
            "bin_start": 1.7877824416685688,
            "bin_end": 2.3347217670869007,
            "count": 193
           }
          ]
         }
        },
        {
         "name": "_deepnote_index_column",
         "dtype": "int64"
        }
       ],
       "rows": [
        {
         "Gender": -0.9540218701406296,
         "Company Type": 0.7250520420054042,
         "WFH Setup Available": 0.9197132458428061,
         "Designation": -1.034140010164544,
         "Resource Allocation": -1.7430172776245503,
         "Mental Fatigue Score": -1.3297717132159168,
         "_deepnote_index_column": 9862
        },
        {
         "Gender": 1.0481939998425744,
         "Company Type": 0.7250520420054042,
         "WFH Setup Available": 0.9197132458428061,
         "Designation": 0.7250252301850311,
         "Resource Allocation": 0.7680010270333968,
         "Mental Fatigue Score": 0.20165839795540966,
         "_deepnote_index_column": 8996
        },
        {
         "Gender": -0.9540218701406296,
         "Company Type": 0.7250520420054042,
         "WFH Setup Available": 0.9197132458428061,
         "Designation": -1.034140010164544,
         "Resource Allocation": -0.23640629482978207,
         "Mental Fatigue Score": 0.09227053287174386,
         "_deepnote_index_column": 19493
        },
        {
         "Gender": -0.9540218701406296,
         "Company Type": 0.7250520420054042,
         "WFH Setup Available": 0.9197132458428061,
         "Designation": -1.034140010164544,
         "Resource Allocation": -0.7386099557613715,
         "Mental Fatigue Score": -0.3999748600047542,
         "_deepnote_index_column": 8487
        },
        {
         "Gender": -0.9540218701406296,
         "Company Type": -1.3792113421736236,
         "WFH Setup Available": 0.9197132458428061,
         "Designation": -1.034140010164544,
         "Resource Allocation": -1.2408136166929609,
         "Mental Fatigue Score": -1.0016081179649183,
         "_deepnote_index_column": 11803
        },
        {
         "Gender": -0.9540218701406296,
         "Company Type": -1.3792113421736236,
         "WFH Setup Available": -1.0872954200889222,
         "Designation": 1.6046078503598187,
         "Resource Allocation": 0.006575572767598448,
         "Mental Fatigue Score": 0.5845159257482414,
         "_deepnote_index_column": 20747
        },
        {
         "Gender": -0.9540218701406296,
         "Company Type": -1.3792113421736236,
         "WFH Setup Available": -1.0872954200889222,
         "Designation": -0.15455738998975646,
         "Resource Allocation": -0.7386099557613715,
         "Mental Fatigue Score": -0.7281384552557526,
         "_deepnote_index_column": 9899
        },
        {
         "Gender": -0.9540218701406296,
         "Company Type": 0.7250520420054042,
         "WFH Setup Available": -1.0872954200889222,
         "Designation": 0.7250252301850311,
         "Resource Allocation": 1.7724083488965756,
         "Mental Fatigue Score": 1.8424763742104024,
         "_deepnote_index_column": 2336
        },
        {
         "Gender": -0.9540218701406296,
         "Company Type": 0.7250520420054042,
         "WFH Setup Available": 0.9197132458428061,
         "Designation": -1.9137226303393315,
         "Resource Allocation": -1.2408136166929609,
         "Mental Fatigue Score": -0.9469141854230851,
         "_deepnote_index_column": 415
        },
        {
         "Gender": -0.9540218701406296,
         "Company Type": -1.3792113421736236,
         "WFH Setup Available": 0.9197132458428061,
         "Designation": 0.7250252301850311,
         "Resource Allocation": 0.2657973661018073,
         "Mental Fatigue Score": -0.07181126475375582,
         "_deepnote_index_column": 14277
        }
       ]
      },
      "text/plain": "         Gender  Company Type  WFH Setup Available  Designation  \\\n9862  -0.954022      0.725052             0.919713    -1.034140   \n8996   1.048194      0.725052             0.919713     0.725025   \n19493 -0.954022      0.725052             0.919713    -1.034140   \n8487  -0.954022      0.725052             0.919713    -1.034140   \n11803 -0.954022     -1.379211             0.919713    -1.034140   \n...         ...           ...                  ...          ...   \n12470  1.048194     -1.379211            -1.087295     0.725025   \n9959   1.048194      0.725052             0.919713    -0.154557   \n18811 -0.954022      0.725052             0.919713     0.725025   \n2060  -0.954022      0.725052            -1.087295     2.484190   \n14207  1.048194      0.725052            -1.087295    -0.154557   \n\n       Resource Allocation  Mental Fatigue Score  \n9862             -1.743017             -1.329772  \n8996              0.768001              0.201658  \n19493            -0.236406              0.092271  \n8487             -0.738610             -0.399975  \n11803            -1.240814             -1.001608  \n...                    ...                   ...  \n12470             0.265797             -0.235893  \n9959             -0.738610             -0.837526  \n18811             0.265797             -0.399975  \n2060              2.274612              2.225334  \n14207             0.265797              0.748598  \n\n[6488 rows x 6 columns]",
      "text/html": "<div>\n<style scoped>\n    .dataframe tbody tr th:only-of-type {\n        vertical-align: middle;\n    }\n\n    .dataframe tbody tr th {\n        vertical-align: top;\n    }\n\n    .dataframe thead th {\n        text-align: right;\n    }\n</style>\n<table border=\"1\" class=\"dataframe\">\n  <thead>\n    <tr style=\"text-align: right;\">\n      <th></th>\n      <th>Gender</th>\n      <th>Company Type</th>\n      <th>WFH Setup Available</th>\n      <th>Designation</th>\n      <th>Resource Allocation</th>\n      <th>Mental Fatigue Score</th>\n    </tr>\n  </thead>\n  <tbody>\n    <tr>\n      <th>9862</th>\n      <td>-0.954022</td>\n      <td>0.725052</td>\n      <td>0.919713</td>\n      <td>-1.034140</td>\n      <td>-1.743017</td>\n      <td>-1.329772</td>\n    </tr>\n    <tr>\n      <th>8996</th>\n      <td>1.048194</td>\n      <td>0.725052</td>\n      <td>0.919713</td>\n      <td>0.725025</td>\n      <td>0.768001</td>\n      <td>0.201658</td>\n    </tr>\n    <tr>\n      <th>19493</th>\n      <td>-0.954022</td>\n      <td>0.725052</td>\n      <td>0.919713</td>\n      <td>-1.034140</td>\n      <td>-0.236406</td>\n      <td>0.092271</td>\n    </tr>\n    <tr>\n      <th>8487</th>\n      <td>-0.954022</td>\n      <td>0.725052</td>\n      <td>0.919713</td>\n      <td>-1.034140</td>\n      <td>-0.738610</td>\n      <td>-0.399975</td>\n    </tr>\n    <tr>\n      <th>11803</th>\n      <td>-0.954022</td>\n      <td>-1.379211</td>\n      <td>0.919713</td>\n      <td>-1.034140</td>\n      <td>-1.240814</td>\n      <td>-1.001608</td>\n    </tr>\n    <tr>\n      <th>...</th>\n      <td>...</td>\n      <td>...</td>\n      <td>...</td>\n      <td>...</td>\n      <td>...</td>\n      <td>...</td>\n    </tr>\n    <tr>\n      <th>12470</th>\n      <td>1.048194</td>\n      <td>-1.379211</td>\n      <td>-1.087295</td>\n      <td>0.725025</td>\n      <td>0.265797</td>\n      <td>-0.235893</td>\n    </tr>\n    <tr>\n      <th>9959</th>\n      <td>1.048194</td>\n      <td>0.725052</td>\n      <td>0.919713</td>\n      <td>-0.154557</td>\n      <td>-0.738610</td>\n      <td>-0.837526</td>\n    </tr>\n    <tr>\n      <th>18811</th>\n      <td>-0.954022</td>\n      <td>0.725052</td>\n      <td>0.919713</td>\n      <td>0.725025</td>\n      <td>0.265797</td>\n      <td>-0.399975</td>\n    </tr>\n    <tr>\n      <th>2060</th>\n      <td>-0.954022</td>\n      <td>0.725052</td>\n      <td>-1.087295</td>\n      <td>2.484190</td>\n      <td>2.274612</td>\n      <td>2.225334</td>\n    </tr>\n    <tr>\n      <th>14207</th>\n      <td>1.048194</td>\n      <td>0.725052</td>\n      <td>-1.087295</td>\n      <td>-0.154557</td>\n      <td>0.265797</td>\n      <td>0.748598</td>\n    </tr>\n  </tbody>\n</table>\n<p>6488 rows × 6 columns</p>\n</div>"
     },
     "metadata": {}
    }
   ]
  },
  {
   "cell_type": "code",
   "metadata": {
    "cell_id": "cf67df1e168248ca816fc12c979044e2",
    "tags": [],
    "deepnote_to_be_reexecuted": false,
    "source_hash": "93a6c3bd",
    "execution_start": 1649529233698,
    "execution_millis": 1,
    "deepnote_cell_type": "code",
    "deepnote_cell_height": 405
   },
   "source": "def encode(arr):\n    b = []\n    for i in range(len(arr)):\n        if(arr[i] == 'Male'):\n            b.append(1)\n        elif(arr[i] == 'Female'):\n            b.append(0)\n        elif(arr[i] == 'Product'):\n            b.append(0)\n        elif(arr[i] == 'Service'):\n            b.append(1)\n        elif(arr[i] == 'No'):\n            b.append(0)\n        elif(arr[i] == 'Yes'):\n            b.append(1)           \n        else:\n            b.append(a[i])\n    return b\n",
   "execution_count": null,
   "outputs": []
  },
  {
   "cell_type": "code",
   "metadata": {
    "cell_id": "8191c7299d534ac393914ea673e8ee75",
    "tags": [],
    "deepnote_to_be_reexecuted": false,
    "source_hash": "6ad5accc",
    "execution_start": 1649529306566,
    "execution_millis": 2,
    "owner_user_id": "fe6a1a06-37ec-4a4a-95d3-8f4900a52102",
    "deepnote_cell_type": "code",
    "deepnote_cell_height": 190.1875,
    "deepnote_output_heights": [
     21.1875
    ]
   },
   "source": "a = ['Male','Service','Yes', 3, 2, 5.5]\na = encode(a)\narr = np.array([a])\nb = arr\nb",
   "execution_count": null,
   "outputs": [
    {
     "output_type": "execute_result",
     "execution_count": 90,
     "data": {
      "text/plain": "array([[1. , 1. , 1. , 3. , 2. , 5.5]])"
     },
     "metadata": {}
    }
   ]
  },
  {
   "cell_type": "code",
   "metadata": {
    "cell_id": "3bb137a44aa14ff2845bc509d895cbe6",
    "tags": [],
    "deepnote_to_be_reexecuted": false,
    "source_hash": "22559c85",
    "execution_start": 1649529317449,
    "execution_millis": 27,
    "owner_user_id": "25621e2a-fcc3-4b0d-a008-85a861c380b7",
    "deepnote_cell_type": "code",
    "deepnote_cell_height": 81
   },
   "source": "Ypredict = pickle_model.predict(b)",
   "execution_count": null,
   "outputs": []
  },
  {
   "cell_type": "code",
   "metadata": {
    "cell_id": "d78c09ba6f0c42d0aec64b30f4022331",
    "tags": [],
    "deepnote_to_be_reexecuted": false,
    "source_hash": "ff024222",
    "execution_start": 1649529320796,
    "execution_millis": 3,
    "deepnote_cell_type": "code",
    "deepnote_cell_height": 118.1875,
    "deepnote_output_heights": [
     21.1875
    ]
   },
   "source": "Ypredict ",
   "execution_count": null,
   "outputs": [
    {
     "output_type": "execute_result",
     "execution_count": 93,
     "data": {
      "text/plain": "array([0.9177508], dtype=float32)"
     },
     "metadata": {}
    }
   ]
  },
  {
   "cell_type": "code",
   "metadata": {
    "cell_id": "8f680f001ce542a297c1a4ba06c730dc",
    "tags": [],
    "owner_user_id": "35d02b11-26c9-4868-924e-1a6b0d8b425d",
    "deepnote_cell_type": "code",
    "deepnote_cell_height": 66
   },
   "source": "",
   "execution_count": null,
   "outputs": []
  },
  {
   "cell_type": "markdown",
   "source": "<a style='text-decoration:none;line-height:16px;display:flex;color:#5B5B62;padding:10px;justify-content:end;' href='https://deepnote.com?utm_source=created-in-deepnote-cell&projectId=167ceb4c-421d-4f13-bafe-633219b94dfe' target=\"_blank\">\n<img alt='Created in deepnote.com' style='display:inline;max-height:16px;margin:0px;margin-right:7.5px;' src='data:image/svg+xml;base64,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' > </img>\nCreated in <span style='font-weight:600;margin-left:4px;'>Deepnote</span></a>",
   "metadata": {
    "tags": [],
    "created_in_deepnote_cell": true,
    "deepnote_cell_type": "markdown"
   }
  }
 ],
 "nbformat": 4,
 "nbformat_minor": 0,
 "metadata": {
  "colab": {
   "name": "mentaldraft1.ipynb",
   "provenance": []
  },
  "kernelspec": {
   "name": "python3",
   "display_name": "Python 3"
  },
  "language_info": {
   "name": "python"
  },
  "deepnote_notebook_id": "5508e8af-ff25-4f44-a68e-e3c44939fd87",
  "deepnote": {},
  "deepnote_execution_queue": []
 }
}